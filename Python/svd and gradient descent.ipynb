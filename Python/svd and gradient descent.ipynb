{
 "cells": [
  {
   "cell_type": "code",
   "execution_count": 1,
   "id": "235d354f-82ea-4763-909e-fac12334f7fe",
   "metadata": {
    "tags": []
   },
   "outputs": [],
   "source": [
    "import numpy as np\n",
    "import scipy.linalg\n",
    "import sklearn.metrics as skmetrics\n",
    "import matplotlib.pyplot as plt\n",
    "from sklearn.preprocessing import StandardScaler, MinMaxScaler\n",
    "import math\n",
    "import optuna\n",
    "import warnings\n",
    "warnings.filterwarnings(\"ignore\")"
   ]
  },
  {
   "cell_type": "code",
   "execution_count": 2,
   "id": "f436cce9-7cf9-4296-8893-3f55ef0409ec",
   "metadata": {},
   "outputs": [],
   "source": [
    "file_name = \"2.txt\""
   ]
  },
  {
   "cell_type": "code",
   "execution_count": 3,
   "id": "6511d825-1efd-4988-8ece-f9770d0f4bdb",
   "metadata": {},
   "outputs": [
    {
     "name": "stdout",
     "output_type": "stream",
     "text": [
      "82 1283\n"
     ]
    },
    {
     "data": {
      "text/plain": [
       "256"
      ]
     },
     "execution_count": 3,
     "metadata": {},
     "output_type": "execute_result"
    }
   ],
   "source": [
    "file = open(file_name)\n",
    "n, dtrain = int(file.readline().strip()), int(file.readline().strip())\n",
    "print(n, dtrain)\n",
    "train = np.array([[int(a) for a in file.readline().strip().split()] for i in range(dtrain)])\n",
    "dtest = int(file.readline().strip())\n",
    "test = np.array([[int(a) for a in file.readline().strip().split()] for i in range(dtest)])\n",
    "dtest"
   ]
  },
  {
   "cell_type": "code",
   "execution_count": 31,
   "id": "cc6b0300-b66e-453c-8dc7-ced0c7f31b5f",
   "metadata": {},
   "outputs": [],
   "source": [
    "scaler = MinMaxScaler()\n",
    "train_F = scaler.fit_transform(np.array([[(train[i][j]) for j in range(n)] for i in range(dtrain)]))\n",
    "test_F = scaler.transform(np.array([[(test[i][j]) for j in range(n)] for i in range(dtest)]))\n",
    "train_y = scaler.fit_transform(np.array([[train[i][n]] for i in range(dtrain)]))\n",
    "test_y = scaler.transform(np.array([[test[i][n]] for i in range(dtest)]))"
   ]
  },
  {
   "cell_type": "code",
   "execution_count": 36,
   "id": "2ac1b6b2-63d4-41f7-ab91-ef3b4e25f4de",
   "metadata": {
    "tags": []
   },
   "outputs": [],
   "source": [
    "def calc_mnk_svd(n, F, y, tau = 0):\n",
    "    v, d, ut = scipy.linalg.svd(F, full_matrices=False)\n",
    "    vt = np.transpose(v)\n",
    "    teta = np.zeros((1, n))\n",
    "    for i in range(n):\n",
    "        a1 =   (vt[i] @ y)[0]\n",
    "        #print(a1)\n",
    "        a = ut[i]\n",
    "        teta = teta + a * (a1 * d[i] / (d[i]  * d[i] + tau))\n",
    "    return np.transpose(teta)"
   ]
  },
  {
   "cell_type": "code",
   "execution_count": 40,
   "id": "6f71ab6c-d79c-4187-a196-4100abdcf3a7",
   "metadata": {},
   "outputs": [],
   "source": [
    "def squeeze_column(x):\n",
    "    return np.squeeze(np.asarray(x))\n",
    "def mse(y, y_pred):\n",
    "    return ((y - y_pred)**2).mean(axis=0)\n",
    "def nrmse(y, y_pred):\n",
    "    return (((y - y_pred)**2).mean(axis=0) ** 0.5) / (max(y) - min(y))\n",
    "def smape(y, y_pred):\n",
    "    return 100/len(y) * np.sum(np.abs(y_pred - y) / (np.abs(y) + np.abs(y_pred)))\n",
    "def objective_svd_mse(trial):\n",
    "    x = trial.suggest_float('x', -9, 5)\n",
    "    return mse(squeeze_column(test_y), squeeze_column(test_F @ calc_mnk_svd(n, train_F, train_y, tau=math.exp(x))))\n",
    "def objective_svd_smape(trial):\n",
    "    x = trial.suggest_float('x', -9, 5)\n",
    "    return smape(squeeze_column(test_y), squeeze_column(test_F @ calc_mnk_svd(n, train_F, train_y, tau=math.exp(x))))\n"
   ]
  },
  {
   "cell_type": "code",
   "execution_count": 52,
   "id": "df86bf4b-33e8-45fd-9de4-7a70db7a6d2c",
   "metadata": {
    "tags": []
   },
   "outputs": [
    {
     "name": "stdout",
     "output_type": "stream",
     "text": [
      "-7.853429031854175\n",
      "-7.984137515148755\n",
      "mse best tau parameter: 0.00038841778512391847\n",
      "smape best tau parameter: 0.00034082632708765256\n"
     ]
    }
   ],
   "source": [
    "\n",
    "optuna.logging.set_verbosity(optuna.logging.ERROR)\n",
    "\n",
    "study_mse = optuna.create_study()\n",
    "study_mse.optimize(objective_svd_mse, n_trials=200)\n",
    "reg_coef_mnk_mse = math.exp(study_mse.best_params['x'])\n",
    "print(study_mse.best_params['x'])\n",
    "study_smape = optuna.create_study()\n",
    "study_smape.optimize(objective_svd_smape, n_trials=100)\n",
    "print(study_smape.best_params['x'])\n",
    "reg_coef_mnk_smape = math.exp(study_smape.best_params['x'])\n",
    "\n",
    "print(\"mse best tau parameter:\", reg_coef_mnk_mse)\n",
    "print(\"smape best tau parameter:\", reg_coef_mnk_smape)"
   ]
  },
  {
   "cell_type": "code",
   "execution_count": 144,
   "id": "76380655-245e-49ca-a1c0-751b83dd7e0b",
   "metadata": {},
   "outputs": [],
   "source": [
    "x1 = [-9 + i / 10 for i in range(0, 90)]\n",
    "x2 = [-9 + i / 10 for i in range(0, 90)]\n",
    "y1 = [nrmse(squeeze_column(test_y), squeeze_column(test_F @ calc_mnk_svd(n, train_F, train_y, tau=math.exp(i)))) for i in x1]\n",
    "y2 = [smape(squeeze_column(test_y), squeeze_column(test_F @ calc_mnk_svd(n, train_F, train_y, tau=math.exp(i)))) for i in x2]"
   ]
  },
  {
   "cell_type": "code",
   "execution_count": 145,
   "id": "bc9110bc-decc-45c6-ad1f-6ce09c424ec6",
   "metadata": {},
   "outputs": [],
   "source": [
    "w_mnk = calc_mnk_svd(n, train_F, train_y, tau=reg_coef_mnk_smape)"
   ]
  },
  {
   "cell_type": "code",
   "execution_count": 146,
   "id": "3e24c6ed-d595-4a96-a54d-567d1ec17262",
   "metadata": {},
   "outputs": [
    {
     "data": {
      "text/plain": [
       "[<matplotlib.lines.Line2D at 0x1e3e13d7c70>]"
      ]
     },
     "execution_count": 146,
     "metadata": {},
     "output_type": "execute_result"
    },
    {
     "data": {
      "image/png": "[encoded data removed]",
      "text/plain": [
       "<Figure size 432x288 with 1 Axes>"
      ]
     },
     "metadata": {
      "needs_background": "light"
     },
     "output_type": "display_data"
    }
   ],
   "source": [
    "plt.plot(x1, y1)"
   ]
  },
  {
   "cell_type": "code",
   "execution_count": 147,
   "id": "2732d5a3-5778-4c1d-b9fd-ec87273ab40e",
   "metadata": {},
   "outputs": [
    {
     "data": {
      "text/plain": [
       "[<matplotlib.lines.Line2D at 0x1e3e1836640>]"
      ]
     },
     "execution_count": 147,
     "metadata": {},
     "output_type": "execute_result"
    },
    {
     "data": {
      "image/png": "[encoded data removed]",
      "text/plain": [
       "<Figure size 432x288 with 1 Axes>"
      ]
     },
     "metadata": {
      "needs_background": "light"
     },
     "output_type": "display_data"
    }
   ],
   "source": [
    "plt.plot(x2, y2)"
   ]
  },
  {
   "cell_type": "code",
   "execution_count": 126,
   "id": "5e8e4e1e-dca7-4581-a37a-f2a25b448aba",
   "metadata": {},
   "outputs": [],
   "source": [
    "def gradient_descent(n, F, y, tau, mu, w_start, l_fun, l_grad):\n",
    "    perm = np.random.permutation(len(y))\n",
    "    ls = []\n",
    "    it = 0\n",
    "    for i in perm:\n",
    "        #print( w_start)\n",
    "        w_start = w_start * (1 - mu * tau) - mu * l_grad(F[i], y[i][0], w_start)\n",
    "        ls.append(l_fun(squeeze_column(y), squeeze_column(F @ w_start)))\n",
    "        i += 1\n",
    "        if i == 2000:\n",
    "            break\n",
    "    return (w_start, ls)"
   ]
  },
  {
   "cell_type": "code",
   "execution_count": 127,
   "id": "c3e78b2c-f65c-405b-9cc5-f53fb7bba631",
   "metadata": {
    "tags": []
   },
   "outputs": [
    {
     "name": "stdout",
     "output_type": "stream",
     "text": [
      "{'mu': -3.6668492134748156, 'tau': -6.074615828853492}\n"
     ]
    }
   ],
   "source": [
    "def mse_grad(x, y, w):\n",
    "    return (-2 * (y - w @ (x)) * x)\n",
    "\n",
    "def objective_grad_mse(trial):\n",
    "    mu = trial.suggest_float('mu', -9, 0)\n",
    "    tau = trial.suggest_float('tau', -9, 0)\n",
    "    w_start = np.array([np.random.uniform(-1 / (2 * n), 1 / (2 * n)) for i in range(n)])\n",
    "    w, ls = gradient_descent(n, train_F, train_y, math.exp(tau), math.exp(mu), w_start, mse, mse_grad)\n",
    "    return mse(squeeze_column(test_y), squeeze_column(test_F @ w))\n",
    "\n",
    "study_mse = optuna.create_study()\n",
    "study_mse.optimize(objective_grad_mse, n_trials=100)\n",
    "print(study_mse.best_params)"
   ]
  },
  {
   "cell_type": "code",
   "execution_count": 128,
   "id": "66fd90bb-3dee-4baa-8246-21da86598da7",
   "metadata": {},
   "outputs": [],
   "source": [
    "tau_mse_grad = math.exp(study_mse.best_params['tau'])\n",
    "mu_mse_grad = math.exp(study_mse.best_params['mu'])"
   ]
  },
  {
   "cell_type": "code",
   "execution_count": 129,
   "id": "085a820e-aa29-4f24-8f60-dd939c1c7e48",
   "metadata": {},
   "outputs": [],
   "source": [
    "w_start = np.array([np.random.uniform(-1 / (2 * n), 1 / (2 * n)) for i in range(n)])\n",
    "w_grad_mse, ls = gradient_descent(n, train_F, train_y, tau_mse_grad, mu_mse_grad, w_start, mse, mse_grad)"
   ]
  },
  {
   "cell_type": "code",
   "execution_count": 130,
   "id": "379f7a3f-a139-43d2-9055-56d754ef90b7",
   "metadata": {},
   "outputs": [
    {
     "data": {
      "text/plain": [
       "[<matplotlib.lines.Line2D at 0x1e3e0d99af0>]"
      ]
     },
     "execution_count": 130,
     "metadata": {},
     "output_type": "execute_result"
    },
    {
     "data": {
      "image/png": "[encoded data removed]",
      "text/plain": [
       "<Figure size 432x288 with 1 Axes>"
      ]
     },
     "metadata": {
      "needs_background": "light"
     },
     "output_type": "display_data"
    }
   ],
   "source": [
    "plt.plot([i for i in range(len(ls))], ls)"
   ]
  },
  {
   "cell_type": "code",
   "execution_count": 149,
   "id": "7a21a5bc-de4f-40b7-ae47-9e2a82e442b7",
   "metadata": {
    "tags": []
   },
   "outputs": [
    {
     "name": "stdout",
     "output_type": "stream",
     "text": [
      "{'mu': -10.137303972382233, 'tau': -5.89370780613763}\n"
     ]
    }
   ],
   "source": [
    "def smape_grad(x, y, w):\n",
    "    wx = w @ x\n",
    "    #print(abs(y))\n",
    "    return 100 * x * np.sign(wx - y) * (abs(y) + np.sign(wx) * y) / (np.sign(wx) * wx + abs(y)) ** 2 \n",
    "    if wx - y > 0 and wx > 0:\n",
    "        return -100* x * ((y + abs(y)) / ((wx + abs(y))**2))\n",
    "    if wx - y <= 0 and wx > 0:\n",
    "        return -100* x*(-(y + abs(y))/ ((wx + abs(y))**2))\n",
    "    if wx - y > 0 and wx <= 0:\n",
    "        return -100 * x*((abs(y) - y)/ ((abs(y) - wx)**2))\n",
    "    return 100* x*((abs(y) - y)/ ((abs(y) - wx)**2))\n",
    "\n",
    "def objective_grad_smape(trial):\n",
    "    mu = trial.suggest_float('mu', -13, 0)\n",
    "    tau = trial.suggest_float('tau', -13, 0)\n",
    "    #w_start = np.array([np.random.uniform(-1 / (2 * n), 1 / (2 * n)) for i in range(n)])\n",
    "    w, ls = gradient_descent(n, train_F, train_y, math.exp(tau), math.exp(mu), w_start, smape, smape_grad)\n",
    "    return smape(squeeze_column(test_y), squeeze_column(test_F @ w))\n",
    "\n",
    "study_smape = optuna.create_study()\n",
    "study_smape.optimize(objective_grad_smape, n_trials=100)\n",
    "print(study_smape.best_params)"
   ]
  },
  {
   "cell_type": "code",
   "execution_count": 132,
   "id": "5f61e2a9-4d03-40b2-83dc-79b7afc5022d",
   "metadata": {},
   "outputs": [],
   "source": [
    "tau_smape_grad = math.exp(study_smape.best_params['tau'])\n",
    "mu_smape_grad = math.exp(study_smape.best_params['mu'])"
   ]
  },
  {
   "cell_type": "code",
   "execution_count": 133,
   "id": "9f36838f-bdc5-4796-9734-65dd562ea4e0",
   "metadata": {},
   "outputs": [],
   "source": [
    "w_grad_smape, ls = gradient_descent(n, train_F, train_y, tau_smape_grad, mu_smape_grad, w_start, smape, smape_grad)"
   ]
  },
  {
   "cell_type": "code",
   "execution_count": 134,
   "id": "4c82c12f-c93b-42e9-9410-4b9accef6c07",
   "metadata": {},
   "outputs": [
    {
     "data": {
      "text/plain": [
       "[<matplotlib.lines.Line2D at 0x1e3e12056a0>]"
      ]
     },
     "execution_count": 134,
     "metadata": {},
     "output_type": "execute_result"
    },
    {
     "data": {
      "image/png": "[encoded data removed]",
      "text/plain": [
       "<Figure size 432x288 with 1 Axes>"
      ]
     },
     "metadata": {
      "needs_background": "light"
     },
     "output_type": "display_data"
    }
   ],
   "source": [
    "plt.plot([i for i in range(len(ls))], ls)"
   ]
  },
  {
   "cell_type": "code",
   "execution_count": 135,
   "id": "69b19569-8c76-43d3-9c22-b0e5bc7bda2e",
   "metadata": {},
   "outputs": [
    {
     "name": "stdout",
     "output_type": "stream",
     "text": [
      "mnk:     \t 0.0001837150592497553\n",
      "grad_mse:\t 0.7635203791488108\n",
      "grad_smape:\t 2.9103485992025666\n"
     ]
    }
   ],
   "source": [
    "print(\"mnk:     \\t\", smape(squeeze_column(test_y), squeeze_column(test_F @ w_mnk)))\n",
    "print(\"grad_mse:\\t\", smape(squeeze_column(test_y), squeeze_column(test_F @ w_grad_mse)))\n",
    "print(\"grad_smape:\\t\", smape(squeeze_column(test_y), squeeze_column(test_F @ w_grad_smape)))"
   ]
  },
  {
   "cell_type": "code",
   "execution_count": 148,
   "id": "9001d55b-d5f8-444d-b436-d63e90153d72",
   "metadata": {
    "tags": []
   },
   "outputs": [
    {
     "name": "stdout",
     "output_type": "stream",
     "text": [
      "mnk:     \t 2.9299339040494166e-06\n",
      "grad_mse:\t 0.011908918787825287\n",
      "grad_smape:\t 0.04451597406317719\n"
     ]
    }
   ],
   "source": [
    "print(\"mnk:     \\t\", nrmse(squeeze_column(test_y), squeeze_column(test_F @ w_mnk)))\n",
    "print(\"grad_mse:\\t\", nrmse(squeeze_column(test_y), squeeze_column(test_F @ w_grad_mse)))\n",
    "print(\"grad_smape:\\t\", nrmse(squeeze_column(test_y), squeeze_column(test_F @ w_grad_smape)))"
   ]
  },
  {
   "cell_type": "code",
   "execution_count": null,
   "id": "7d52f2a9-a886-4015-a7eb-5e2462dc941b",
   "metadata": {},
   "outputs": [],
   "source": []
  }
 ],
 "metadata": {
  "kernelspec": {
   "display_name": "Python 3 (ipykernel)",
   "language": "python",
   "name": "python3"
  },
  "language_info": {
   "codemirror_mode": {
    "name": "ipython",
    "version": 3
   },
   "file_extension": ".py",
   "mimetype": "text/x-python",
   "name": "python",
   "nbconvert_exporter": "python",
   "pygments_lexer": "ipython3",
   "version": "3.9.13"
  }
 },
 "nbformat": 4,
 "nbformat_minor": 5
}
